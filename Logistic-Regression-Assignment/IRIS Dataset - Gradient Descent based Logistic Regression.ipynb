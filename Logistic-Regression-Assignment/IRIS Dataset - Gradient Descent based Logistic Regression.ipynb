{
 "cells": [
  {
   "cell_type": "code",
   "execution_count": 76,
   "metadata": {},
   "outputs": [],
   "source": [
    "import csv\n",
    "import numpy as np\n",
    "import scipy as sp\n",
    "import matplotlib\n",
    "from matplotlib import pyplot as plt\n",
    "import math"
   ]
  },
  {
   "cell_type": "code",
   "execution_count": 77,
   "metadata": {},
   "outputs": [],
   "source": [
    "#############\n",
    "## DATA IO ##\n",
    "#############\n",
    "\n",
    "def get_data(filepath):\n",
    "    # Opens the file handler for the dataset file. Using variable 'f' we can access and manipulate our file anywhere in our code\n",
    "    # after the next code line.\n",
    "    f = open(filepath,\"r\")\n",
    "\n",
    "    # Predictors Collection (or your input variable) (which in this case is just the Sepal's & petal's length,width)\n",
    "    X1 = []\n",
    "    X2 = []\n",
    "    X3 = []\n",
    "    X4 = []\n",
    "    \n",
    "\n",
    "    # Output Response (or your output variable) (which in this case is the species of Iris.)\n",
    "    Y = []\n",
    "\n",
    "    # Initializing a reader generator using reader method from csv module. A reader generator takes each line from the file\n",
    "    # and converts it into list of columns.\n",
    "    reader = csv.reader(f)\n",
    "\n",
    "    # Using for loop, we are able to read one row at a time.\n",
    "    for row in reader:\n",
    "        X1.append(float(row[0]))\n",
    "        X2.append(float(row[1]))\n",
    "        X3.append(float(row[2]))\n",
    "        X4.append(float(row[3]))\n",
    "        Y.append((row[4]))\n",
    "    # Close the file once we have succesffuly stored all data into our X and Y variables.\n",
    "    f.close()\n",
    "\n",
    "    return [[np.array(X1),np.array(X2),np.array(X3),np.array(X4)],np.array(Y)]\n",
    "\n",
    "#returns[[x1,x2,x3,..,x4],y] so that X=[x1..x4],X[0]=x1"
   ]
  },
  {
   "cell_type": "code",
   "execution_count": 78,
   "metadata": {},
   "outputs": [],
   "source": [
    "X,Y = get_data(\"C:\\\\Users\\\\Edy\\\\Documents\\\\GitHub\\\\ML-Inception-DatumGuy\\\\iris.csv\")"
   ]
  },
  {
   "cell_type": "code",
   "execution_count": 79,
   "metadata": {},
   "outputs": [
    {
     "name": "stdout",
     "output_type": "stream",
     "text": [
      "['Iris-setosa' 'Iris-setosa' 'Iris-setosa' 'Iris-setosa' 'Iris-setosa'\n",
      " 'Iris-setosa' 'Iris-setosa' 'Iris-setosa' 'Iris-setosa' 'Iris-setosa'\n",
      " 'Iris-setosa' 'Iris-setosa' 'Iris-setosa' 'Iris-setosa' 'Iris-setosa'\n",
      " 'Iris-setosa' 'Iris-setosa' 'Iris-setosa' 'Iris-setosa' 'Iris-setosa'\n",
      " 'Iris-setosa' 'Iris-setosa' 'Iris-setosa' 'Iris-setosa' 'Iris-setosa'\n",
      " 'Iris-setosa' 'Iris-setosa' 'Iris-setosa' 'Iris-setosa' 'Iris-setosa'\n",
      " 'Iris-setosa' 'Iris-setosa' 'Iris-setosa' 'Iris-setosa' 'Iris-setosa'\n",
      " 'Iris-setosa' 'Iris-setosa' 'Iris-setosa' 'Iris-setosa' 'Iris-setosa'\n",
      " 'Iris-setosa' 'Iris-setosa' 'Iris-setosa' 'Iris-setosa' 'Iris-setosa'\n",
      " 'Iris-setosa' 'Iris-setosa' 'Iris-setosa' 'Iris-setosa' 'Iris-setosa'\n",
      " 'Iris-versicolor' 'Iris-versicolor' 'Iris-versicolor' 'Iris-versicolor'\n",
      " 'Iris-versicolor' 'Iris-versicolor' 'Iris-versicolor' 'Iris-versicolor'\n",
      " 'Iris-versicolor' 'Iris-versicolor' 'Iris-versicolor' 'Iris-versicolor'\n",
      " 'Iris-versicolor' 'Iris-versicolor' 'Iris-versicolor' 'Iris-versicolor'\n",
      " 'Iris-versicolor' 'Iris-versicolor' 'Iris-versicolor' 'Iris-versicolor'\n",
      " 'Iris-versicolor' 'Iris-versicolor' 'Iris-versicolor' 'Iris-versicolor'\n",
      " 'Iris-versicolor' 'Iris-versicolor' 'Iris-versicolor' 'Iris-versicolor'\n",
      " 'Iris-versicolor' 'Iris-versicolor' 'Iris-versicolor' 'Iris-versicolor'\n",
      " 'Iris-versicolor' 'Iris-versicolor' 'Iris-versicolor' 'Iris-versicolor'\n",
      " 'Iris-versicolor' 'Iris-versicolor' 'Iris-versicolor' 'Iris-versicolor'\n",
      " 'Iris-versicolor' 'Iris-versicolor' 'Iris-versicolor' 'Iris-versicolor'\n",
      " 'Iris-versicolor' 'Iris-versicolor' 'Iris-versicolor' 'Iris-versicolor'\n",
      " 'Iris-versicolor' 'Iris-versicolor' 'Iris-virginica' 'Iris-virginica'\n",
      " 'Iris-virginica' 'Iris-virginica' 'Iris-virginica' 'Iris-virginica'\n",
      " 'Iris-virginica' 'Iris-virginica' 'Iris-virginica' 'Iris-virginica'\n",
      " 'Iris-virginica' 'Iris-virginica' 'Iris-virginica' 'Iris-virginica'\n",
      " 'Iris-virginica' 'Iris-virginica' 'Iris-virginica' 'Iris-virginica'\n",
      " 'Iris-virginica' 'Iris-virginica' 'Iris-virginica' 'Iris-virginica'\n",
      " 'Iris-virginica' 'Iris-virginica' 'Iris-virginica' 'Iris-virginica'\n",
      " 'Iris-virginica' 'Iris-virginica' 'Iris-virginica' 'Iris-virginica'\n",
      " 'Iris-virginica' 'Iris-virginica' 'Iris-virginica' 'Iris-virginica'\n",
      " 'Iris-virginica' 'Iris-virginica' 'Iris-virginica' 'Iris-virginica'\n",
      " 'Iris-virginica' 'Iris-virginica' 'Iris-virginica' 'Iris-virginica'\n",
      " 'Iris-virginica' 'Iris-virginica' 'Iris-virginica' 'Iris-virginica'\n",
      " 'Iris-virginica' 'Iris-virginica' 'Iris-virginica' 'Iris-virginica']\n"
     ]
    }
   ],
   "source": [
    "print(Y) #Initially Y consists of Strings"
   ]
  },
  {
   "cell_type": "code",
   "execution_count": 80,
   "metadata": {},
   "outputs": [],
   "source": [
    "#Classifying sentosa species as 1 and others as 0\n",
    "for i in range(0,len(Y)):\n",
    "    \n",
    "    if Y[i]== 'Iris-setosa':\n",
    "        Y[i] = 1 \n",
    "    else:\n",
    "        Y[i] = 0 \n",
    "    "
   ]
  },
  {
   "cell_type": "code",
   "execution_count": 81,
   "metadata": {},
   "outputs": [
    {
     "name": "stdout",
     "output_type": "stream",
     "text": [
      "['1' '1' '1' '1' '1' '1' '1' '1' '1' '1' '1' '1' '1' '1' '1' '1' '1' '1'\n",
      " '1' '1' '1' '1' '1' '1' '1' '1' '1' '1' '1' '1' '1' '1' '1' '1' '1' '1'\n",
      " '1' '1' '1' '1' '1' '1' '1' '1' '1' '1' '1' '1' '1' '1' '0' '0' '0' '0'\n",
      " '0' '0' '0' '0' '0' '0' '0' '0' '0' '0' '0' '0' '0' '0' '0' '0' '0' '0'\n",
      " '0' '0' '0' '0' '0' '0' '0' '0' '0' '0' '0' '0' '0' '0' '0' '0' '0' '0'\n",
      " '0' '0' '0' '0' '0' '0' '0' '0' '0' '0' '0' '0' '0' '0' '0' '0' '0' '0'\n",
      " '0' '0' '0' '0' '0' '0' '0' '0' '0' '0' '0' '0' '0' '0' '0' '0' '0' '0'\n",
      " '0' '0' '0' '0' '0' '0' '0' '0' '0' '0' '0' '0' '0' '0' '0' '0' '0' '0'\n",
      " '0' '0' '0' '0' '0' '0']\n"
     ]
    }
   ],
   "source": [
    "print(Y)"
   ]
  },
  {
   "cell_type": "code",
   "execution_count": 82,
   "metadata": {},
   "outputs": [],
   "source": [
    "Y = list(map(float,Y)) #converting string as float"
   ]
  },
  {
   "cell_type": "code",
   "execution_count": 89,
   "metadata": {},
   "outputs": [
    {
     "data": {
      "text/plain": [
       "list"
      ]
     },
     "execution_count": 89,
     "metadata": {},
     "output_type": "execute_result"
    }
   ],
   "source": [
    "type(X)"
   ]
  },
  {
   "cell_type": "code",
   "execution_count": 84,
   "metadata": {},
   "outputs": [],
   "source": [
    "#####################\n",
    "## RSS Calculation ##\n",
    "#####################\n",
    "\n",
    "def RSS(x, y, betas):\n",
    "    rss = 0 #initialize rss as 0\n",
    "    for i in range(x[0].shape[0]):\n",
    "        predicted_value = 1/(1.0 + math.exp(-(betas[0] + (betas[1]*X[0][i]) + (betas[2]*X[1][i]) + (betas[3]*X[2][i]))))\n",
    "        actual_value = y[i]\n",
    "        rss = rss + ((predicted_value - actual_value)**2) #Simultaneous update of rss    \n",
    "    return (np.sqrt(rss/x[0].shape[0]))\n",
    "\n",
    "\n",
    "def predicted_value_for_ithRow(X,i,betas):\n",
    "    return 1/(1.0 + math.exp(-(betas[0] + (betas[1]*X[0][i]) + (betas[2]*X[1][i]) + (betas[3]*X[2][i]))))"
   ]
  },
  {
   "cell_type": "code",
   "execution_count": 85,
   "metadata": {},
   "outputs": [],
   "source": [
    "def gradientDescentAlgorithm(x,y,learning_rate):\n",
    "    \n",
    "    print (\"Training Linear Regression Model using Gradient Descent\")\n",
    "    \n",
    "    maximum_iterations = 5000\n",
    "    \n",
    "    # This flag lets the program know wether the gradient descent algorithm has reached it's converged state which means wether \n",
    "    # the algorithm was able to find the local minima (where the slope of RSS wrt your parameters beta_0 and beta_1 is zero)\n",
    "    converge_status = False\n",
    "    \n",
    "    # num_rows stores the number of datapoints in the current dataset provided for training.\n",
    "    num_rows = x[0].shape[0] #shape[a,b] where a - rows, b - columns\n",
    "\n",
    "    # Initial Value of parameters ((beta_0, beta_1) - for our simple linear regression case)\n",
    "    betas = [0,0,0,0] #zero is initialized for beta1..beta4\n",
    "\n",
    "    # Initial Error or RSS(beta_0,beta_1) based on the initial parameter values\n",
    "    error = RSS(x,y,betas)\n",
    "    \n",
    "    print('Initial Value of RSS (Cost Function)=', error);\n",
    "    \n",
    "    # Iterate Loop\n",
    "    num_iter = 0\n",
    "    while not converge_status:\n",
    "        # for each training sample, compute the gradient (d/d_beta j(beta))\n",
    "        \n",
    "        #Below 3 are the Actual formula but we replaced this big formula as (predicted_value_for_ithRow(x,i,betas) in function\n",
    "        \n",
    "        #gradient_0 = 1/num_rows * sum([(beta_0 + beta_1*np.asarray([x1[i]])+ beta_2*np.asarray([x2[i]])+ beta_3*np.asarray([x3[i]])+ beta_4*np.asarray([x4[i]])+ beta_5*np.asarray([x5[i]])+ beta_6*np.asarray([x6[i]]) - y[i]) for i in range(num_rows)])\n",
    "        \n",
    "        #gradient_1 = 1/num_rows * sum([(beta_0 + beta_1*np.asarray([x1[i]])+ beta_2*np.asarray([x2[i]])+ beta_3*np.asarray([x3[i]])+ beta_4*np.asarray([x4[i]])+ beta_5*np.asarray([x5[i]])+ beta_6*np.asarray([x6[i]]) - y[i])*np.asarray([x1[i]]) for i in range(num_rows)])\n",
    "        \n",
    "        #gradient_2 = 1/num_rows * sum([(beta_0 + beta_1*np.asarray([x1[i]])+ beta_2*np.asarray([x2[i]])+ beta_3*np.asarray([x3[i]])+ beta_4*np.asarray([x4[i]])+ beta_5*np.asarray([x5[i]])+ beta_6*np.asarray([x6[i]]) - y[i])*np.asarray([x2[i]]) for i in range(num_rows)])\n",
    "        \n",
    "        # for each training sample, compute the gradient (d/d_beta j(beta))\n",
    "        gradient_0 = 1.0/num_rows * sum([(predicted_value_for_ithRow(x,i,betas) - y[i]) for i in range(num_rows)]) \n",
    "        gradient_1 = 1.0/num_rows * sum([(predicted_value_for_ithRow(x,i,betas) - y[i])*x[0][i] for i in range(num_rows)])\n",
    "        gradient_2 = 1.0/num_rows * sum([(predicted_value_for_ithRow(x,i,betas) - y[i])*x[1][i] for i in range(num_rows)])\n",
    "        gradient_3 = 1.0/num_rows * sum([(predicted_value_for_ithRow(x,i,betas) - y[i])*x[2][i] for i in range(num_rows)])\n",
    "        \n",
    "        # Computation of new parameters according to the current gradient.\n",
    "        #temp0 = beta_0 - learning_rate * gradient_0\n",
    "        temp0 = betas[0] - learning_rate * gradient_0\n",
    "        temp1 = betas[1] - learning_rate * gradient_1\n",
    "        temp2 = betas[2] - learning_rate * gradient_2\n",
    "        temp3 = betas[3] - learning_rate * gradient_3\n",
    "        \n",
    "    \n",
    "        # Simultaneous Update of Parameters Beta_0 and Beta_1.\n",
    "        #beta_0 = temp0\n",
    "        betas[0] = temp0\n",
    "        betas[1] = temp1\n",
    "        betas[2] = temp2\n",
    "        betas[3] = temp3\n",
    "        \n",
    "\n",
    "        \n",
    "        current_error = RSS(x, y, betas)\n",
    "        \n",
    "        if num_iter % 250 == 0:\n",
    "            print ('Iteration',num_iter+1,'Current Value of RSS (Cost Function) based on updated values of beta_0 to beta_6 = ', current_error)\n",
    "            \n",
    "        error = current_error   # update error \n",
    "        num_iter = num_iter + 1  # update iter\n",
    "    \n",
    "        if num_iter == maximum_iterations:\n",
    "            print (\"Training Interrupted as Maximum number of iterations were crossed.\\n\\n\")\n",
    "            converge_status = True\n",
    "\n",
    "    return (betas)"
   ]
  },
  {
   "cell_type": "code",
   "execution_count": 86,
   "metadata": {},
   "outputs": [],
   "source": [
    "# Method to predict response variable Y for new values of X using the estimated coefficientsself.\n",
    "# This method can predict Response variable (Y) for single as well as multiple values of X. If only a single numerical Value\n",
    "# input variable (X). It will return the prediction for only that single numerical\n",
    "# value. If a collection of different values for input variable (list) is passed, it will return a list of predictions\n",
    "# for each input value.\n",
    "# \"if\" statement on line number 72 takes care of understanding if the input value is singular or a list.\n",
    "def predict(coef,X):\n",
    "    beta_0 = coef[0]\n",
    "    beta_1 = coef[1]\n",
    "    beta_2 = coef[2]\n",
    "    beta_3 = coef[3]\n",
    "    \n",
    "\n",
    "    fy = []\n",
    "    if len(X) > 1:\n",
    "        for x in X:\n",
    "            fy.append(1/(1.0 + math.exp(-(beta_0 + (beta_1*x[0]) + (beta_2*x[1]) + (beta_3*x[2])))))\n",
    "        return fy\n",
    "\n",
    "    # Our Regression Model defined using the coefficients from slr function\n",
    "    x = X[0] #declaring x to take values of x1..x6\n",
    "    Y = 1/(1.0 + math.exp(-(beta_0 + (beta_1*x[0]) + (beta_2*x[1]) + (beta_3*x[2]))))\n",
    "\n",
    "    return Y"
   ]
  },
  {
   "cell_type": "code",
   "execution_count": 87,
   "metadata": {},
   "outputs": [
    {
     "name": "stdout",
     "output_type": "stream",
     "text": [
      "Training Linear Regression Model using Gradient Descent\n",
      "Initial Value of RSS (Cost Function)= 0.5\n",
      "Iteration 1 Current Value of RSS (Cost Function) based on updated values of beta_0 to beta_6 =  0.4999999990790298\n",
      "Iteration 251 Current Value of RSS (Cost Function) based on updated values of beta_0 to beta_6 =  0.49999976883683633\n",
      "Iteration 501 Current Value of RSS (Cost Function) based on updated values of beta_0 to beta_6 =  0.4999995385953351\n",
      "Iteration 751 Current Value of RSS (Cost Function) based on updated values of beta_0 to beta_6 =  0.4999993083545262\n",
      "Iteration 1001 Current Value of RSS (Cost Function) based on updated values of beta_0 to beta_6 =  0.49999907811440963\n",
      "Iteration 1251 Current Value of RSS (Cost Function) based on updated values of beta_0 to beta_6 =  0.4999988478749851\n",
      "Iteration 1501 Current Value of RSS (Cost Function) based on updated values of beta_0 to beta_6 =  0.4999986176362533\n",
      "Iteration 1751 Current Value of RSS (Cost Function) based on updated values of beta_0 to beta_6 =  0.4999983873982135\n",
      "Iteration 2001 Current Value of RSS (Cost Function) based on updated values of beta_0 to beta_6 =  0.49999815716086615\n",
      "Iteration 2251 Current Value of RSS (Cost Function) based on updated values of beta_0 to beta_6 =  0.49999792692421113\n",
      "Iteration 2501 Current Value of RSS (Cost Function) based on updated values of beta_0 to beta_6 =  0.4999976966882482\n",
      "Iteration 2751 Current Value of RSS (Cost Function) based on updated values of beta_0 to beta_6 =  0.4999974664529776\n",
      "Iteration 3001 Current Value of RSS (Cost Function) based on updated values of beta_0 to beta_6 =  0.4999972362183996\n",
      "Iteration 3251 Current Value of RSS (Cost Function) based on updated values of beta_0 to beta_6 =  0.49999700598451363\n",
      "Iteration 3501 Current Value of RSS (Cost Function) based on updated values of beta_0 to beta_6 =  0.4999967757513201\n",
      "Iteration 3751 Current Value of RSS (Cost Function) based on updated values of beta_0 to beta_6 =  0.4999965455188188\n",
      "Iteration 4001 Current Value of RSS (Cost Function) based on updated values of beta_0 to beta_6 =  0.4999963152870097\n",
      "Iteration 4251 Current Value of RSS (Cost Function) based on updated values of beta_0 to beta_6 =  0.4999960850558931\n",
      "Iteration 4501 Current Value of RSS (Cost Function) based on updated values of beta_0 to beta_6 =  0.4999958548254686\n",
      "Iteration 4751 Current Value of RSS (Cost Function) based on updated values of beta_0 to beta_6 =  0.49999562459573643\n",
      "Training Interrupted as Maximum number of iterations were crossed.\n",
      "\n",
      "\n",
      "Final Values for Beta_0 to Beta_6: [-4.1665580815247447e-07, -3.132434520331634e-06, -9.691338336837173e-07, -3.4782880176237774e-06]\n",
      "Prediction: 0.49999303447715293\n"
     ]
    }
   ],
   "source": [
    "#X,Y = get_data(\"../Datasets/hardware.csv\")\n",
    "# show_scatter_plot(X,Y)\n",
    "\n",
    "################################################\n",
    "## Model Training (or coefficient estimation) ##\n",
    "################################################\n",
    "# Using our gradient descent function we estimate coefficients of our regression line. The gradient descent function returns a list of \n",
    "# coefficients\n",
    "\n",
    "coefficients = gradientDescentAlgorithm(X,Y,0.0000000005)\n",
    "\n",
    "########################\n",
    "## Making Predictions ##\n",
    "########################\n",
    "\n",
    "# Using our predict function and the coefficients given by our slr function we can now predict the ERP.\n",
    "print (\"Final Values for Beta_0 to Beta_6:\",coefficients)\n",
    "print (\"Prediction:\",predict(coefficients,[[5.6,3.4,1.9,0.6]]))"
   ]
  },
  {
   "cell_type": "code",
   "execution_count": 91,
   "metadata": {},
   "outputs": [
    {
     "name": "stdout",
     "output_type": "stream",
     "text": [
      "\n",
      "\n",
      "Accuracy Metrics of the model\n",
      "-------------------------------------\n",
      "Residual Standard Error: 0.7071134563028452\n",
      "% Residual Standard Error (over average Interval): 212.13403689085357\n",
      "\n",
      "R-Squared Value: 0.4374893799048749\n"
     ]
    }
   ],
   "source": [
    "############################\n",
    "## Performance Evaluation ##\n",
    "############################\n",
    "\n",
    "print (\"\\n\\nAccuracy Metrics of the model\\n-------------------------------------\")\n",
    "\n",
    "# Calculation of RSE\n",
    "RSS = 0\n",
    "X = np.transpose(X)\n",
    "for idx in range(0,len(X)):\n",
    "    actual_y = Y[idx]\n",
    "    predicted_y = predict(coefficients,[X[idx,0:6]])\n",
    "    RSS = RSS + ((actual_y - predicted_y)**2)\n",
    "RSE = np.sqrt((1/float(X.shape[0]-2))*RSS)\n",
    "\n",
    "\n",
    "print (\"Residual Standard Error:\",RSE)\n",
    "print (\"% Residual Standard Error (over average Interval):\", (RSE/np.mean(Y))*100)\n",
    "\n",
    "\n",
    "# Calculation of R_Squared\n",
    "TSS = 0\n",
    "for idx in range(0,len(X)):\n",
    "    actual_y = Y[idx]\n",
    "    TSS = TSS + ((actual_y - np.mean(Y))**2)\n",
    "R_Squared = ((TSS) - (RSS)) / (TSS)\n",
    "\n",
    "print (\"\\nR-Squared Value:\",R_Squared)"
   ]
  },
  {
   "cell_type": "code",
   "execution_count": null,
   "metadata": {},
   "outputs": [],
   "source": []
  }
 ],
 "metadata": {
  "kernelspec": {
   "display_name": "Python 3",
   "language": "python",
   "name": "python3"
  },
  "language_info": {
   "codemirror_mode": {
    "name": "ipython",
    "version": 3
   },
   "file_extension": ".py",
   "mimetype": "text/x-python",
   "name": "python",
   "nbconvert_exporter": "python",
   "pygments_lexer": "ipython3",
   "version": "3.6.6"
  }
 },
 "nbformat": 4,
 "nbformat_minor": 2
}
